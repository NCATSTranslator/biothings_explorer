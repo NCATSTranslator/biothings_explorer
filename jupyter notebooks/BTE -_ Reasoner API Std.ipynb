{
 "cells": [
  {
   "cell_type": "code",
   "execution_count": 1,
   "metadata": {},
   "outputs": [],
   "source": [
    "from biothings_explorer.user_query_dispatcher import SingleEdgeQueryDispatcher"
   ]
  },
  {
   "cell_type": "code",
   "execution_count": 2,
   "metadata": {},
   "outputs": [],
   "source": [
    "seqd = SingleEdgeQueryDispatcher(output_cls='ChemicalSubstance',\n",
    "                                 input_cls='Gene',\n",
    "                                 pred=\"physically_interacts_with\",\n",
    "                                 input_id='NCBIGene',\n",
    "                                 values='1017')"
   ]
  },
  {
   "cell_type": "code",
   "execution_count": 3,
   "metadata": {},
   "outputs": [
    {
     "name": "stdout",
     "output_type": "stream",
     "text": [
      "==== Step #1: Query path planning ====\n",
      "\n",
      "Because NCBIGene:1017 is of type 'Gene', BTE will query our meta-KG for APIs that can take 'Gene' as input and 'ChemicalSubstance' as output\n",
      "\n",
      "BTE found 3 apis:\n",
      "\n",
      "API 1. mychem(2 API calls)\n",
      "API 2. dgidb(1 API call)\n",
      "API 3. semmed_gene(1 API call)\n",
      "\n",
      "\n",
      "==== Step #2: Query path execution ====\n",
      "NOTE: API requests are dispatched in parallel, so the list of APIs below is ordered by query time.\n",
      "\n",
      "API 1.2: https://mychem.info/v1/query?fields=chembl.molecule_chembl_id&size=250 (POST -d q=CDK2&scopes=drugcentral.bioactivity.uniprot.gene_symbol)\n",
      "API 1.1: https://mychem.info/v1/query?fields=drugbank.id&size=250 (POST -d q=CDK2&scopes=drugbank.targets.gene_name)\n",
      "API 2.1: http://dgidb.genome.wustl.edu/api/v2/interactions.json?genes=CDK2\n",
      "API 3.1: https://biothings.ncats.io/semmedgene/query?fields=physically_interacts_with (POST -d q=C1332733,C0108855&scopes=umls)\n",
      "\n",
      "\n",
      "==== Step #3: Output normalization ====\n",
      "\n",
      "API 3.1 semmed_gene: 112 hits\n",
      "API 2.1 dgidb: 142 hits\n",
      "API 1.1 mychem: 136 hits\n",
      "API 1.2 mychem: 6 hits\n",
      "\n",
      "After id-to-object translation, BTE retrieved 277 unique objects.\n"
     ]
    }
   ],
   "source": [
    "seqd.query(verbose=True)"
   ]
  },
  {
   "cell_type": "code",
   "execution_count": 5,
   "metadata": {},
   "outputs": [],
   "source": [
    "output = seqd.to_reasoner_std()"
   ]
  },
  {
   "cell_type": "code",
   "execution_count": 6,
   "metadata": {},
   "outputs": [
    {
     "data": {
      "text/plain": [
       "dict_keys(['query_graph', 'knowledge_graph', 'results'])"
      ]
     },
     "execution_count": 6,
     "metadata": {},
     "output_type": "execute_result"
    }
   ],
   "source": [
    "output.keys()"
   ]
  },
  {
   "cell_type": "code",
   "execution_count": 7,
   "metadata": {},
   "outputs": [
    {
     "data": {
      "text/plain": [
       "{'edges': [{'id': 'e0',\n",
       "   'source_id': 'n0',\n",
       "   'target_id': 'n1',\n",
       "   'directed': True}],\n",
       " 'nodes': [{'id': 'n0', 'type': 'Gene', 'curie': 'NCBIGene:1017'},\n",
       "  {'id': 'n1', 'type': 'ChemicalSubstance'}]}"
      ]
     },
     "execution_count": 7,
     "metadata": {},
     "output_type": "execute_result"
    }
   ],
   "source": [
    "output['query_graph']"
   ]
  },
  {
   "cell_type": "code",
   "execution_count": 8,
   "metadata": {},
   "outputs": [
    {
     "data": {
      "text/plain": [
       "[{'id': 'NCBIGene:1017',\n",
       "  'name': 'CYCLIN DEPENDENT KINASE 2',\n",
       "  'type': 'Gene',\n",
       "  'equivalent_identifiers': defaultdict(set,\n",
       "              {'NCBIGene': ['1017'],\n",
       "               'name': ['CYCLIN DEPENDENT KINASE 2'],\n",
       "               'SYMBOL': ['CDK2'],\n",
       "               'UMLS': ['C1332733', 'C0108855'],\n",
       "               'HGNC': ['1771'],\n",
       "               'UNIPROTKB': ['P24941'],\n",
       "               'ENSEMBL': ['ENSG00000123374']})},\n",
       " {'id': 'UMLS:C0034760',\n",
       "  'name': 'UMLS:C0034760',\n",
       "  'type': 'ChemicalSubstance',\n",
       "  'equivalent_identifiers': {'UMLS': ['C0034760']}},\n",
       " {'id': 'UMLS:C0220806',\n",
       "  'name': 'UMLS:C0220806',\n",
       "  'type': 'ChemicalSubstance',\n",
       "  'equivalent_identifiers': {'UMLS': ['C0220806']}},\n",
       " {'id': 'UMLS:C0304497',\n",
       "  'name': 'UMLS:C0304497',\n",
       "  'type': 'ChemicalSubstance',\n",
       "  'equivalent_identifiers': {'UMLS': ['C0304497']}},\n",
       " {'id': 'UMLS:C0444626',\n",
       "  'name': 'UMLS:C0444626',\n",
       "  'type': 'ChemicalSubstance',\n",
       "  'equivalent_identifiers': {'UMLS': ['C0444626']}},\n",
       " {'id': 'UMLS:C0567415',\n",
       "  'name': 'UMLS:C0567415',\n",
       "  'type': 'ChemicalSubstance',\n",
       "  'equivalent_identifiers': {'UMLS': ['C0567415']}},\n",
       " {'id': 'UMLS:C0599473',\n",
       "  'name': 'UMLS:C0599473',\n",
       "  'type': 'ChemicalSubstance',\n",
       "  'equivalent_identifiers': {'UMLS': ['C0599473']}},\n",
       " {'id': 'UMLS:C0678518',\n",
       "  'name': 'UMLS:C0678518',\n",
       "  'type': 'ChemicalSubstance',\n",
       "  'equivalent_identifiers': {'UMLS': ['C0678518']}},\n",
       " {'id': 'UMLS:C0001128',\n",
       "  'name': 'UMLS:C0001128',\n",
       "  'type': 'ChemicalSubstance',\n",
       "  'equivalent_identifiers': {'UMLS': ['C0001128']}},\n",
       " {'id': 'UMLS:C0086860',\n",
       "  'name': 'UMLS:C0086860',\n",
       "  'type': 'ChemicalSubstance',\n",
       "  'equivalent_identifiers': {'UMLS': ['C0086860']}},\n",
       " {'id': 'UMLS:C0280038',\n",
       "  'name': 'UMLS:C0280038',\n",
       "  'type': 'ChemicalSubstance',\n",
       "  'equivalent_identifiers': {'UMLS': ['C0280038']}},\n",
       " {'id': 'UMLS:C0597667',\n",
       "  'name': 'UMLS:C0597667',\n",
       "  'type': 'ChemicalSubstance',\n",
       "  'equivalent_identifiers': {'UMLS': ['C0597667']}},\n",
       " {'id': 'UMLS:C0699857',\n",
       "  'name': 'UMLS:C0699857',\n",
       "  'type': 'ChemicalSubstance',\n",
       "  'equivalent_identifiers': {'UMLS': ['C0699857']}},\n",
       " {'id': 'UMLS:C1171350',\n",
       "  'name': 'UMLS:C1171350',\n",
       "  'type': 'ChemicalSubstance',\n",
       "  'equivalent_identifiers': {'UMLS': ['C1171350']}},\n",
       " {'id': 'UMLS:C1513403',\n",
       "  'name': 'UMLS:C1513403',\n",
       "  'type': 'ChemicalSubstance',\n",
       "  'equivalent_identifiers': {'UMLS': ['C1513403']}},\n",
       " {'id': 'UMLS:C0243077',\n",
       "  'name': 'UMLS:C0243077',\n",
       "  'type': 'ChemicalSubstance',\n",
       "  'equivalent_identifiers': {'UMLS': ['C0243077']}},\n",
       " {'id': 'UMLS:C0450442',\n",
       "  'name': 'UMLS:C0450442',\n",
       "  'type': 'ChemicalSubstance',\n",
       "  'equivalent_identifiers': {'UMLS': ['C0450442']}},\n",
       " {'id': 'UMLS:C0243071',\n",
       "  'name': 'UMLS:C0243071',\n",
       "  'type': 'ChemicalSubstance',\n",
       "  'equivalent_identifiers': {'UMLS': ['C0243071']}},\n",
       " {'id': 'UMLS:C0303231',\n",
       "  'name': 'UMLS:C0303231',\n",
       "  'type': 'ChemicalSubstance',\n",
       "  'equivalent_identifiers': {'UMLS': ['C0303231']}},\n",
       " {'id': 'CHEMBL.COMPOUND:CHEMBL1802728',\n",
       "  'name': 'CHEMBL.COMPOUND:CHEMBL1802728',\n",
       "  'type': 'ChemicalSubstance',\n",
       "  'equivalent_identifiers': defaultdict(set,\n",
       "              {'CHEMBL.COMPOUND': ['CHEMBL1802728'],\n",
       "               'PUBCHEM': ['10202471']})}]"
      ]
     },
     "execution_count": 8,
     "metadata": {},
     "output_type": "execute_result"
    }
   ],
   "source": [
    "output['knowledge_graph']['nodes'][:20]"
   ]
  },
  {
   "cell_type": "code",
   "execution_count": 9,
   "metadata": {},
   "outputs": [
    {
     "data": {
      "text/plain": [
       "[{'source_id': 'NCBIGene:1017',\n",
       "  'target_id': 'UMLS:C0034760',\n",
       "  'edge_source': 'SEMMED Gene API',\n",
       "  'id': 'd2f964b4c125a9e6d7900e82dc0f9949de63bb66a1a63575ddb685b1aa2c92ce',\n",
       "  'type': 'physically_interacts_with'},\n",
       " {'source_id': 'NCBIGene:1017',\n",
       "  'target_id': 'UMLS:C0220806',\n",
       "  'edge_source': 'SEMMED Gene API',\n",
       "  'id': '0d3020e8b77f59b3698c2b8e18966743a5cb8198112d0e928024bd678ef3cbdb',\n",
       "  'type': 'physically_interacts_with'},\n",
       " {'source_id': 'NCBIGene:1017',\n",
       "  'target_id': 'UMLS:C0304497',\n",
       "  'edge_source': 'SEMMED Gene API',\n",
       "  'id': 'c46637cc4d656411f53f7ab5b051a4f9c4da973562f94ac0d39a3121a4bfb8e7',\n",
       "  'type': 'physically_interacts_with'},\n",
       " {'source_id': 'NCBIGene:1017',\n",
       "  'target_id': 'UMLS:C0444626',\n",
       "  'edge_source': 'SEMMED Gene API',\n",
       "  'id': '6607126c2d681d736f3e6b032758fbd3a9682390782239e7e0f7b5b494be8b98',\n",
       "  'type': 'physically_interacts_with'},\n",
       " {'source_id': 'NCBIGene:1017',\n",
       "  'target_id': 'UMLS:C0444626',\n",
       "  'edge_source': 'SEMMED Gene API',\n",
       "  'id': '6607126c2d681d736f3e6b032758fbd3a9682390782239e7e0f7b5b494be8b98',\n",
       "  'type': 'physically_interacts_with'},\n",
       " {'source_id': 'NCBIGene:1017',\n",
       "  'target_id': 'UMLS:C0567415',\n",
       "  'edge_source': 'SEMMED Gene API',\n",
       "  'id': '4772f4342cb641cdb176688040148a6cb43065301719773a0d68035a5494311a',\n",
       "  'type': 'physically_interacts_with'},\n",
       " {'source_id': 'NCBIGene:1017',\n",
       "  'target_id': 'UMLS:C0599473',\n",
       "  'edge_source': 'SEMMED Gene API',\n",
       "  'id': 'dd18ca55bdc18f383864537cbcf663e8f95319cb70742ef90340a825700553ce',\n",
       "  'type': 'physically_interacts_with'},\n",
       " {'source_id': 'NCBIGene:1017',\n",
       "  'target_id': 'UMLS:C0678518',\n",
       "  'edge_source': 'SEMMED Gene API',\n",
       "  'id': '26e940eca7c1430c634fda17e03b735f5a28179631034d07251d023f5ea97ec4',\n",
       "  'type': 'physically_interacts_with'},\n",
       " {'source_id': 'NCBIGene:1017',\n",
       "  'target_id': 'UMLS:C0001128',\n",
       "  'edge_source': 'SEMMED Gene API',\n",
       "  'id': '903accd6f7401dd51329c30ad1b7d0c2ccd691406406014333f81441892e6797',\n",
       "  'type': 'physically_interacts_with'},\n",
       " {'source_id': 'NCBIGene:1017',\n",
       "  'target_id': 'UMLS:C0086860',\n",
       "  'edge_source': 'SEMMED Gene API',\n",
       "  'id': '9552a7d9f0ebb931917e9955d7230ea75100d2cb9f36fe76c1453aeadc222901',\n",
       "  'type': 'physically_interacts_with'},\n",
       " {'source_id': 'NCBIGene:1017',\n",
       "  'target_id': 'UMLS:C0280038',\n",
       "  'edge_source': 'SEMMED Gene API',\n",
       "  'id': 'fce70ee1b7a08c75dfefadfff5d667914bdab77765341cdbcc43ccc049fc16af',\n",
       "  'type': 'physically_interacts_with'},\n",
       " {'source_id': 'NCBIGene:1017',\n",
       "  'target_id': 'UMLS:C0597667',\n",
       "  'edge_source': 'SEMMED Gene API',\n",
       "  'id': 'b1ef684cc863980476d09809f6cceb82b5c72d099fee58cd8550e11668bb5dfd',\n",
       "  'type': 'physically_interacts_with'},\n",
       " {'source_id': 'NCBIGene:1017',\n",
       "  'target_id': 'UMLS:C0699857',\n",
       "  'edge_source': 'SEMMED Gene API',\n",
       "  'id': '6d3a6c6ab14d579258bb0efb8f03646b5b4a2de65c4295177b12794284fe01b0',\n",
       "  'type': 'physically_interacts_with'},\n",
       " {'source_id': 'NCBIGene:1017',\n",
       "  'target_id': 'UMLS:C1171350',\n",
       "  'edge_source': 'SEMMED Gene API',\n",
       "  'id': '863527c483a39daf22a98b52a00b53eb09717896290b59248384dfd9208662cf',\n",
       "  'type': 'physically_interacts_with'},\n",
       " {'source_id': 'NCBIGene:1017',\n",
       "  'target_id': 'UMLS:C1513403',\n",
       "  'edge_source': 'SEMMED Gene API',\n",
       "  'id': 'af016fe267e17e9e2dfb05cc28f8fb7de9ce5697224dda0a54a2cf09aadbd72a',\n",
       "  'type': 'physically_interacts_with'},\n",
       " {'source_id': 'NCBIGene:1017',\n",
       "  'target_id': 'UMLS:C0243077',\n",
       "  'edge_source': 'SEMMED Gene API',\n",
       "  'id': 'd2c18288c3840658829512784b3838a09069e8eaae8937eeb2ddeda49e0417da',\n",
       "  'type': 'physically_interacts_with'},\n",
       " {'source_id': 'NCBIGene:1017',\n",
       "  'target_id': 'UMLS:C0243077',\n",
       "  'edge_source': 'SEMMED Gene API',\n",
       "  'id': 'd2c18288c3840658829512784b3838a09069e8eaae8937eeb2ddeda49e0417da',\n",
       "  'type': 'physically_interacts_with'},\n",
       " {'source_id': 'NCBIGene:1017',\n",
       "  'target_id': 'UMLS:C0450442',\n",
       "  'edge_source': 'SEMMED Gene API',\n",
       "  'id': '497324acce12210903e1d3f9f043e2fe1ad72ae4fc2a8ce2f0909f3303794a8d',\n",
       "  'type': 'physically_interacts_with'},\n",
       " {'source_id': 'NCBIGene:1017',\n",
       "  'target_id': 'UMLS:C0243071',\n",
       "  'edge_source': 'SEMMED Gene API',\n",
       "  'id': '6c17d3a71884282c4d05c73cc203b45d764720fa7a1bdee5128673c8a863d961',\n",
       "  'type': 'physically_interacts_with'},\n",
       " {'source_id': 'NCBIGene:1017',\n",
       "  'target_id': 'UMLS:C0303231',\n",
       "  'edge_source': 'SEMMED Gene API',\n",
       "  'id': '31af175d47d8a83b0d039735ae7e66f96c84489c9742df539cd3251f4d0fa0c8',\n",
       "  'type': 'physically_interacts_with'}]"
      ]
     },
     "execution_count": 9,
     "metadata": {},
     "output_type": "execute_result"
    }
   ],
   "source": [
    "output['knowledge_graph']['edges'][:20]"
   ]
  },
  {
   "cell_type": "code",
   "execution_count": 12,
   "metadata": {},
   "outputs": [
    {
     "data": {
      "text/plain": [
       "[{'node_bindings': {'n0': ['ENTREZ:ACE2'], 'n1': ['CHEMBL:CHEMBL260273']},\n",
       "  'edge_bindings': {'e0': ['2720cfda869ff775b4c06f199d7e345331bd83b0']}},\n",
       " {'node_bindings': {'n0': ['ENTREZ:ACE2'], 'n1': ['CHEMBL:CHEMBL429844']},\n",
       "  'edge_bindings': {'e0': ['c766ed7c37f23ead58a4e83777d61b0de4d0b19c']}},\n",
       " {'node_bindings': {'n0': ['ENTREZ:ACE2'], 'n1': ['DRUGBANK:DB05203']},\n",
       "  'edge_bindings': {'e0': ['03ce86b5f42fc668191c4a9b494c7e60c5c34f14']}},\n",
       " {'node_bindings': {'n0': ['ENTREZ:ACE2'], 'n1': ['UMLS:C0003015']},\n",
       "  'edge_bindings': {'e0': ['a8bd272d050d9c12af163735b9b9edac2b07a719',\n",
       "    'a8bd272d050d9c12af163735b9b9edac2b07a719']}},\n",
       " {'node_bindings': {'n0': ['ENTREZ:ACE2'], 'n1': ['UMLS:C0012854']},\n",
       "  'edge_bindings': {'e0': ['57091960ded0f1bcf6af15357296ef50629e39aa']}},\n",
       " {'node_bindings': {'n0': ['ENTREZ:ACE2'], 'n1': ['UMLS:C0058206']},\n",
       "  'edge_bindings': {'e0': ['c4e994c106dd4dc9404ac1be7973d94f10f71366']}},\n",
       " {'node_bindings': {'n0': ['ENTREZ:ACE2'], 'n1': ['UMLS:C0065556']},\n",
       "  'edge_bindings': {'e0': ['b3a259f71b23307a859d8d64687e8a5e1ac179f4']}},\n",
       " {'node_bindings': {'n0': ['ENTREZ:ACE2'], 'n1': ['UMLS:C0682921']},\n",
       "  'edge_bindings': {'e0': ['5311d640414bfb77414343da2f539eca0cd04c4f']}},\n",
       " {'node_bindings': {'n0': ['ENTREZ:ACE2'], 'n1': ['UMLS:C0772162']},\n",
       "  'edge_bindings': {'e0': ['50c16358e9035afc3c468db1116ea0f0ae9a99d6']}},\n",
       " {'node_bindings': {'n0': ['ENTREZ:ACE2'], 'n1': ['UMLS:C1098320']},\n",
       "  'edge_bindings': {'e0': ['e99c3887db5dda334dad4b36fbf81ee8fbbcc4bf']}},\n",
       " {'node_bindings': {'n0': ['ENTREZ:ACE2'], 'n1': ['UMLS:C1314787']},\n",
       "  'edge_bindings': {'e0': ['9200a57504f3cc566228c0e869911be38d3e8fb8']}},\n",
       " {'node_bindings': {'n0': ['ENTREZ:ACE2'], 'n1': ['UMLS:C0014939']},\n",
       "  'edge_bindings': {'e0': ['74a87309f99a09831b3ca128b68765ebb50cc5f4']}},\n",
       " {'node_bindings': {'n0': ['ENTREZ:ACE2'], 'n1': ['UMLS:C0309049']},\n",
       "  'edge_bindings': {'e0': ['0abafcc58fdf8af5b773c72838808fd743cb82ed']}},\n",
       " {'node_bindings': {'n0': ['ENTREZ:ACE2'], 'n1': ['UMLS:C0608663']},\n",
       "  'edge_bindings': {'e0': ['7857fc4e384612d831bacf07544cb8d30aadc778']}},\n",
       " {'node_bindings': {'n0': ['ENTREZ:ACE2'], 'n1': ['UMLS:C0684162']},\n",
       "  'edge_bindings': {'e0': ['8b3fe6386a542f5ebdb2ebec09392b0e74aa6d11']}},\n",
       " {'node_bindings': {'n0': ['ENTREZ:ACE2'], 'n1': ['UMLS:C1257987']},\n",
       "  'edge_bindings': {'e0': ['717065d336b8d8feba7c1cbbf6ad8677c48bd0c5']}},\n",
       " {'node_bindings': {'n0': ['ENTREZ:ACE2'], 'n1': ['NAME:LISINOPRIL']},\n",
       "  'edge_bindings': {'e0': ['5c205c2308628f99cd159100ba5403bade269c12']}},\n",
       " {'node_bindings': {'n0': ['ENTREZ:ACE2'], 'n1': ['NAME:FLUTAMIDE']},\n",
       "  'edge_bindings': {'e0': ['4d9841ccde52d05c02c30e008a802415261db683']}},\n",
       " {'node_bindings': {'n0': ['ENTREZ:ACE2'], 'n1': ['NAME:MOEXIPRIL']},\n",
       "  'edge_bindings': {'e0': ['0c238a195f643c7411ce77eeb91610bb64b42315']}},\n",
       " {'node_bindings': {'n0': ['ENTREZ:ACE2'], 'n1': ['NAME:ENALAPRILAT']},\n",
       "  'edge_bindings': {'e0': ['0cfe25c7e88f1171da31971b80f977c3caa50291']}}]"
      ]
     },
     "execution_count": 12,
     "metadata": {},
     "output_type": "execute_result"
    }
   ],
   "source": [
    "output['results'][:20]"
   ]
  },
  {
   "cell_type": "code",
   "execution_count": null,
   "metadata": {},
   "outputs": [],
   "source": []
  }
 ],
 "metadata": {
  "kernelspec": {
   "display_name": "Python 3",
   "language": "python",
   "name": "python3"
  },
  "language_info": {
   "codemirror_mode": {
    "name": "ipython",
    "version": 3
   },
   "file_extension": ".py",
   "mimetype": "text/x-python",
   "name": "python",
   "nbconvert_exporter": "python",
   "pygments_lexer": "ipython3",
   "version": "3.6.5"
  }
 },
 "nbformat": 4,
 "nbformat_minor": 2
}
